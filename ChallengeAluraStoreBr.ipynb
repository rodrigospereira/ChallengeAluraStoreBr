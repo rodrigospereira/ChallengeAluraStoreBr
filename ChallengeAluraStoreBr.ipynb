{
  "nbformat": 4,
  "nbformat_minor": 0,
  "metadata": {
    "colab": {
      "provenance": [],
      "toc_visible": true
    },
    "kernelspec": {
      "name": "python3",
      "display_name": "Python 3"
    },
    "language_info": {
      "name": "python"
    }
  },
  "cells": [
    {
      "cell_type": "markdown",
      "source": [
        "### Importação dos dados\n",
        "\n"
      ],
      "metadata": {
        "id": "RhEdWd9YUR6H"
      }
    },
    {
      "cell_type": "code",
      "execution_count": 1,
      "metadata": {
        "colab": {
          "base_uri": "https://localhost:8080/",
          "height": 365
        },
        "id": "T3EvaeQ_INIL",
        "outputId": "19d873ec-a4a4-4792-c56f-6ecef4139147"
      },
      "outputs": [
        {
          "output_type": "execute_result",
          "data": {
            "text/plain": [
              "                 Produto Categoria do Produto    Preço      Frete  \\\n",
              "0     Assistente virtual          eletronicos   219.08   9.249790   \n",
              "1         Mesa de jantar               moveis   256.35  11.234305   \n",
              "2      Jogo de tabuleiro           brinquedos   279.51  21.262681   \n",
              "3            Micro-ondas     eletrodomesticos  1009.99  54.667344   \n",
              "4  Cadeira de escritório               moveis   446.99  26.964689   \n",
              "\n",
              "  Data da Compra        Vendedor Local da compra  Avaliação da compra  \\\n",
              "0     16/01/2021     Pedro Gomes              SP                    4   \n",
              "1     18/05/2022  Beatriz Moraes              RJ                    1   \n",
              "2     15/03/2021      João Souza              DF                    1   \n",
              "3     03/05/2022      João Souza              RS                    4   \n",
              "4     07/11/2020   Larissa Alves              MG                    5   \n",
              "\n",
              "  Tipo de pagamento  Quantidade de parcelas    lat    lon  \n",
              "0    cartao_credito                       8 -22.19 -48.79  \n",
              "1    cartao_credito                       4 -22.25 -42.66  \n",
              "2    cartao_credito                       1 -15.83 -47.86  \n",
              "3            boleto                       1 -30.17 -53.50  \n",
              "4            boleto                       1 -18.10 -44.38  "
            ],
            "text/html": [
              "\n",
              "  <div id=\"df-6a25a0a5-82cc-48b3-b473-9576a459aac9\" class=\"colab-df-container\">\n",
              "    <div>\n",
              "<style scoped>\n",
              "    .dataframe tbody tr th:only-of-type {\n",
              "        vertical-align: middle;\n",
              "    }\n",
              "\n",
              "    .dataframe tbody tr th {\n",
              "        vertical-align: top;\n",
              "    }\n",
              "\n",
              "    .dataframe thead th {\n",
              "        text-align: right;\n",
              "    }\n",
              "</style>\n",
              "<table border=\"1\" class=\"dataframe\">\n",
              "  <thead>\n",
              "    <tr style=\"text-align: right;\">\n",
              "      <th></th>\n",
              "      <th>Produto</th>\n",
              "      <th>Categoria do Produto</th>\n",
              "      <th>Preço</th>\n",
              "      <th>Frete</th>\n",
              "      <th>Data da Compra</th>\n",
              "      <th>Vendedor</th>\n",
              "      <th>Local da compra</th>\n",
              "      <th>Avaliação da compra</th>\n",
              "      <th>Tipo de pagamento</th>\n",
              "      <th>Quantidade de parcelas</th>\n",
              "      <th>lat</th>\n",
              "      <th>lon</th>\n",
              "    </tr>\n",
              "  </thead>\n",
              "  <tbody>\n",
              "    <tr>\n",
              "      <th>0</th>\n",
              "      <td>Assistente virtual</td>\n",
              "      <td>eletronicos</td>\n",
              "      <td>219.08</td>\n",
              "      <td>9.249790</td>\n",
              "      <td>16/01/2021</td>\n",
              "      <td>Pedro Gomes</td>\n",
              "      <td>SP</td>\n",
              "      <td>4</td>\n",
              "      <td>cartao_credito</td>\n",
              "      <td>8</td>\n",
              "      <td>-22.19</td>\n",
              "      <td>-48.79</td>\n",
              "    </tr>\n",
              "    <tr>\n",
              "      <th>1</th>\n",
              "      <td>Mesa de jantar</td>\n",
              "      <td>moveis</td>\n",
              "      <td>256.35</td>\n",
              "      <td>11.234305</td>\n",
              "      <td>18/05/2022</td>\n",
              "      <td>Beatriz Moraes</td>\n",
              "      <td>RJ</td>\n",
              "      <td>1</td>\n",
              "      <td>cartao_credito</td>\n",
              "      <td>4</td>\n",
              "      <td>-22.25</td>\n",
              "      <td>-42.66</td>\n",
              "    </tr>\n",
              "    <tr>\n",
              "      <th>2</th>\n",
              "      <td>Jogo de tabuleiro</td>\n",
              "      <td>brinquedos</td>\n",
              "      <td>279.51</td>\n",
              "      <td>21.262681</td>\n",
              "      <td>15/03/2021</td>\n",
              "      <td>João Souza</td>\n",
              "      <td>DF</td>\n",
              "      <td>1</td>\n",
              "      <td>cartao_credito</td>\n",
              "      <td>1</td>\n",
              "      <td>-15.83</td>\n",
              "      <td>-47.86</td>\n",
              "    </tr>\n",
              "    <tr>\n",
              "      <th>3</th>\n",
              "      <td>Micro-ondas</td>\n",
              "      <td>eletrodomesticos</td>\n",
              "      <td>1009.99</td>\n",
              "      <td>54.667344</td>\n",
              "      <td>03/05/2022</td>\n",
              "      <td>João Souza</td>\n",
              "      <td>RS</td>\n",
              "      <td>4</td>\n",
              "      <td>boleto</td>\n",
              "      <td>1</td>\n",
              "      <td>-30.17</td>\n",
              "      <td>-53.50</td>\n",
              "    </tr>\n",
              "    <tr>\n",
              "      <th>4</th>\n",
              "      <td>Cadeira de escritório</td>\n",
              "      <td>moveis</td>\n",
              "      <td>446.99</td>\n",
              "      <td>26.964689</td>\n",
              "      <td>07/11/2020</td>\n",
              "      <td>Larissa Alves</td>\n",
              "      <td>MG</td>\n",
              "      <td>5</td>\n",
              "      <td>boleto</td>\n",
              "      <td>1</td>\n",
              "      <td>-18.10</td>\n",
              "      <td>-44.38</td>\n",
              "    </tr>\n",
              "  </tbody>\n",
              "</table>\n",
              "</div>\n",
              "    <div class=\"colab-df-buttons\">\n",
              "\n",
              "  <div class=\"colab-df-container\">\n",
              "    <button class=\"colab-df-convert\" onclick=\"convertToInteractive('df-6a25a0a5-82cc-48b3-b473-9576a459aac9')\"\n",
              "            title=\"Convert this dataframe to an interactive table.\"\n",
              "            style=\"display:none;\">\n",
              "\n",
              "  <svg xmlns=\"http://www.w3.org/2000/svg\" height=\"24px\" viewBox=\"0 -960 960 960\">\n",
              "    <path d=\"M120-120v-720h720v720H120Zm60-500h600v-160H180v160Zm220 220h160v-160H400v160Zm0 220h160v-160H400v160ZM180-400h160v-160H180v160Zm440 0h160v-160H620v160ZM180-180h160v-160H180v160Zm440 0h160v-160H620v160Z\"/>\n",
              "  </svg>\n",
              "    </button>\n",
              "\n",
              "  <style>\n",
              "    .colab-df-container {\n",
              "      display:flex;\n",
              "      gap: 12px;\n",
              "    }\n",
              "\n",
              "    .colab-df-convert {\n",
              "      background-color: #E8F0FE;\n",
              "      border: none;\n",
              "      border-radius: 50%;\n",
              "      cursor: pointer;\n",
              "      display: none;\n",
              "      fill: #1967D2;\n",
              "      height: 32px;\n",
              "      padding: 0 0 0 0;\n",
              "      width: 32px;\n",
              "    }\n",
              "\n",
              "    .colab-df-convert:hover {\n",
              "      background-color: #E2EBFA;\n",
              "      box-shadow: 0px 1px 2px rgba(60, 64, 67, 0.3), 0px 1px 3px 1px rgba(60, 64, 67, 0.15);\n",
              "      fill: #174EA6;\n",
              "    }\n",
              "\n",
              "    .colab-df-buttons div {\n",
              "      margin-bottom: 4px;\n",
              "    }\n",
              "\n",
              "    [theme=dark] .colab-df-convert {\n",
              "      background-color: #3B4455;\n",
              "      fill: #D2E3FC;\n",
              "    }\n",
              "\n",
              "    [theme=dark] .colab-df-convert:hover {\n",
              "      background-color: #434B5C;\n",
              "      box-shadow: 0px 1px 3px 1px rgba(0, 0, 0, 0.15);\n",
              "      filter: drop-shadow(0px 1px 2px rgba(0, 0, 0, 0.3));\n",
              "      fill: #FFFFFF;\n",
              "    }\n",
              "  </style>\n",
              "\n",
              "    <script>\n",
              "      const buttonEl =\n",
              "        document.querySelector('#df-6a25a0a5-82cc-48b3-b473-9576a459aac9 button.colab-df-convert');\n",
              "      buttonEl.style.display =\n",
              "        google.colab.kernel.accessAllowed ? 'block' : 'none';\n",
              "\n",
              "      async function convertToInteractive(key) {\n",
              "        const element = document.querySelector('#df-6a25a0a5-82cc-48b3-b473-9576a459aac9');\n",
              "        const dataTable =\n",
              "          await google.colab.kernel.invokeFunction('convertToInteractive',\n",
              "                                                    [key], {});\n",
              "        if (!dataTable) return;\n",
              "\n",
              "        const docLinkHtml = 'Like what you see? Visit the ' +\n",
              "          '<a target=\"_blank\" href=https://colab.research.google.com/notebooks/data_table.ipynb>data table notebook</a>'\n",
              "          + ' to learn more about interactive tables.';\n",
              "        element.innerHTML = '';\n",
              "        dataTable['output_type'] = 'display_data';\n",
              "        await google.colab.output.renderOutput(dataTable, element);\n",
              "        const docLink = document.createElement('div');\n",
              "        docLink.innerHTML = docLinkHtml;\n",
              "        element.appendChild(docLink);\n",
              "      }\n",
              "    </script>\n",
              "  </div>\n",
              "\n",
              "\n",
              "<div id=\"df-428d476a-1dc2-4f1c-8cad-1d3b67ae4b36\">\n",
              "  <button class=\"colab-df-quickchart\" onclick=\"quickchart('df-428d476a-1dc2-4f1c-8cad-1d3b67ae4b36')\"\n",
              "            title=\"Suggest charts\"\n",
              "            style=\"display:none;\">\n",
              "\n",
              "<svg xmlns=\"http://www.w3.org/2000/svg\" height=\"24px\"viewBox=\"0 0 24 24\"\n",
              "     width=\"24px\">\n",
              "    <g>\n",
              "        <path d=\"M19 3H5c-1.1 0-2 .9-2 2v14c0 1.1.9 2 2 2h14c1.1 0 2-.9 2-2V5c0-1.1-.9-2-2-2zM9 17H7v-7h2v7zm4 0h-2V7h2v10zm4 0h-2v-4h2v4z\"/>\n",
              "    </g>\n",
              "</svg>\n",
              "  </button>\n",
              "\n",
              "<style>\n",
              "  .colab-df-quickchart {\n",
              "      --bg-color: #E8F0FE;\n",
              "      --fill-color: #1967D2;\n",
              "      --hover-bg-color: #E2EBFA;\n",
              "      --hover-fill-color: #174EA6;\n",
              "      --disabled-fill-color: #AAA;\n",
              "      --disabled-bg-color: #DDD;\n",
              "  }\n",
              "\n",
              "  [theme=dark] .colab-df-quickchart {\n",
              "      --bg-color: #3B4455;\n",
              "      --fill-color: #D2E3FC;\n",
              "      --hover-bg-color: #434B5C;\n",
              "      --hover-fill-color: #FFFFFF;\n",
              "      --disabled-bg-color: #3B4455;\n",
              "      --disabled-fill-color: #666;\n",
              "  }\n",
              "\n",
              "  .colab-df-quickchart {\n",
              "    background-color: var(--bg-color);\n",
              "    border: none;\n",
              "    border-radius: 50%;\n",
              "    cursor: pointer;\n",
              "    display: none;\n",
              "    fill: var(--fill-color);\n",
              "    height: 32px;\n",
              "    padding: 0;\n",
              "    width: 32px;\n",
              "  }\n",
              "\n",
              "  .colab-df-quickchart:hover {\n",
              "    background-color: var(--hover-bg-color);\n",
              "    box-shadow: 0 1px 2px rgba(60, 64, 67, 0.3), 0 1px 3px 1px rgba(60, 64, 67, 0.15);\n",
              "    fill: var(--button-hover-fill-color);\n",
              "  }\n",
              "\n",
              "  .colab-df-quickchart-complete:disabled,\n",
              "  .colab-df-quickchart-complete:disabled:hover {\n",
              "    background-color: var(--disabled-bg-color);\n",
              "    fill: var(--disabled-fill-color);\n",
              "    box-shadow: none;\n",
              "  }\n",
              "\n",
              "  .colab-df-spinner {\n",
              "    border: 2px solid var(--fill-color);\n",
              "    border-color: transparent;\n",
              "    border-bottom-color: var(--fill-color);\n",
              "    animation:\n",
              "      spin 1s steps(1) infinite;\n",
              "  }\n",
              "\n",
              "  @keyframes spin {\n",
              "    0% {\n",
              "      border-color: transparent;\n",
              "      border-bottom-color: var(--fill-color);\n",
              "      border-left-color: var(--fill-color);\n",
              "    }\n",
              "    20% {\n",
              "      border-color: transparent;\n",
              "      border-left-color: var(--fill-color);\n",
              "      border-top-color: var(--fill-color);\n",
              "    }\n",
              "    30% {\n",
              "      border-color: transparent;\n",
              "      border-left-color: var(--fill-color);\n",
              "      border-top-color: var(--fill-color);\n",
              "      border-right-color: var(--fill-color);\n",
              "    }\n",
              "    40% {\n",
              "      border-color: transparent;\n",
              "      border-right-color: var(--fill-color);\n",
              "      border-top-color: var(--fill-color);\n",
              "    }\n",
              "    60% {\n",
              "      border-color: transparent;\n",
              "      border-right-color: var(--fill-color);\n",
              "    }\n",
              "    80% {\n",
              "      border-color: transparent;\n",
              "      border-right-color: var(--fill-color);\n",
              "      border-bottom-color: var(--fill-color);\n",
              "    }\n",
              "    90% {\n",
              "      border-color: transparent;\n",
              "      border-bottom-color: var(--fill-color);\n",
              "    }\n",
              "  }\n",
              "</style>\n",
              "\n",
              "  <script>\n",
              "    async function quickchart(key) {\n",
              "      const quickchartButtonEl =\n",
              "        document.querySelector('#' + key + ' button');\n",
              "      quickchartButtonEl.disabled = true;  // To prevent multiple clicks.\n",
              "      quickchartButtonEl.classList.add('colab-df-spinner');\n",
              "      try {\n",
              "        const charts = await google.colab.kernel.invokeFunction(\n",
              "            'suggestCharts', [key], {});\n",
              "      } catch (error) {\n",
              "        console.error('Error during call to suggestCharts:', error);\n",
              "      }\n",
              "      quickchartButtonEl.classList.remove('colab-df-spinner');\n",
              "      quickchartButtonEl.classList.add('colab-df-quickchart-complete');\n",
              "    }\n",
              "    (() => {\n",
              "      let quickchartButtonEl =\n",
              "        document.querySelector('#df-428d476a-1dc2-4f1c-8cad-1d3b67ae4b36 button');\n",
              "      quickchartButtonEl.style.display =\n",
              "        google.colab.kernel.accessAllowed ? 'block' : 'none';\n",
              "    })();\n",
              "  </script>\n",
              "</div>\n",
              "\n",
              "    </div>\n",
              "  </div>\n"
            ],
            "application/vnd.google.colaboratory.intrinsic+json": {
              "type": "dataframe",
              "variable_name": "loja",
              "summary": "{\n  \"name\": \"loja\",\n  \"rows\": 2359,\n  \"fields\": [\n    {\n      \"column\": \"Produto\",\n      \"properties\": {\n        \"dtype\": \"category\",\n        \"num_unique_values\": 51,\n        \"samples\": [\n          \"Viol\\u00e3o\",\n          \"Bola de basquete\",\n          \"Smartwatch\"\n        ],\n        \"semantic_type\": \"\",\n        \"description\": \"\"\n      }\n    },\n    {\n      \"column\": \"Categoria do Produto\",\n      \"properties\": {\n        \"dtype\": \"category\",\n        \"num_unique_values\": 8,\n        \"samples\": [\n          \"moveis\",\n          \"esporte e lazer\",\n          \"eletronicos\"\n        ],\n        \"semantic_type\": \"\",\n        \"description\": \"\"\n      }\n    },\n    {\n      \"column\": \"Pre\\u00e7o\",\n      \"properties\": {\n        \"dtype\": \"number\",\n        \"std\": 819.5827782539145,\n        \"min\": 10.07,\n        \"max\": 3969.38,\n        \"num_unique_values\": 2315,\n        \"samples\": [\n          446.11,\n          107.31,\n          65.86\n        ],\n        \"semantic_type\": \"\",\n        \"description\": \"\"\n      }\n    },\n    {\n      \"column\": \"Frete\",\n      \"properties\": {\n        \"dtype\": \"number\",\n        \"std\": 43.814183327408166,\n        \"min\": 0.0,\n        \"max\": 214.3770604781,\n        \"num_unique_values\": 2149,\n        \"samples\": [\n          83.815279607,\n          16.069664669,\n          14.0344876928\n        ],\n        \"semantic_type\": \"\",\n        \"description\": \"\"\n      }\n    },\n    {\n      \"column\": \"Data da Compra\",\n      \"properties\": {\n        \"dtype\": \"object\",\n        \"num_unique_values\": 1018,\n        \"samples\": [\n          \"15/09/2022\",\n          \"03/06/2020\",\n          \"06/11/2021\"\n        ],\n        \"semantic_type\": \"\",\n        \"description\": \"\"\n      }\n    },\n    {\n      \"column\": \"Vendedor\",\n      \"properties\": {\n        \"dtype\": \"category\",\n        \"num_unique_values\": 14,\n        \"samples\": [\n          \"Juliana Costa\",\n          \"Mariana Ferreira\",\n          \"Pedro Gomes\"\n        ],\n        \"semantic_type\": \"\",\n        \"description\": \"\"\n      }\n    },\n    {\n      \"column\": \"Local da compra\",\n      \"properties\": {\n        \"dtype\": \"category\",\n        \"num_unique_values\": 26,\n        \"samples\": [\n          \"TO\",\n          \"RN\",\n          \"SP\"\n        ],\n        \"semantic_type\": \"\",\n        \"description\": \"\"\n      }\n    },\n    {\n      \"column\": \"Avalia\\u00e7\\u00e3o da compra\",\n      \"properties\": {\n        \"dtype\": \"number\",\n        \"std\": 1,\n        \"min\": 1,\n        \"max\": 5,\n        \"num_unique_values\": 5,\n        \"samples\": [\n          1,\n          2,\n          5\n        ],\n        \"semantic_type\": \"\",\n        \"description\": \"\"\n      }\n    },\n    {\n      \"column\": \"Tipo de pagamento\",\n      \"properties\": {\n        \"dtype\": \"category\",\n        \"num_unique_values\": 4,\n        \"samples\": [\n          \"boleto\",\n          \"cartao_debito\",\n          \"cartao_credito\"\n        ],\n        \"semantic_type\": \"\",\n        \"description\": \"\"\n      }\n    },\n    {\n      \"column\": \"Quantidade de parcelas\",\n      \"properties\": {\n        \"dtype\": \"number\",\n        \"std\": 2,\n        \"min\": 1,\n        \"max\": 24,\n        \"num_unique_values\": 15,\n        \"samples\": [\n          7,\n          14,\n          8\n        ],\n        \"semantic_type\": \"\",\n        \"description\": \"\"\n      }\n    },\n    {\n      \"column\": \"lat\",\n      \"properties\": {\n        \"dtype\": \"number\",\n        \"std\": 5.372399916530833,\n        \"min\": -30.17,\n        \"max\": 1.41,\n        \"num_unique_values\": 26,\n        \"samples\": [\n          -9.46,\n          -5.81,\n          -22.19\n        ],\n        \"semantic_type\": \"\",\n        \"description\": \"\"\n      }\n    },\n    {\n      \"column\": \"lon\",\n      \"properties\": {\n        \"dtype\": \"number\",\n        \"std\": 4.183180020544179,\n        \"min\": -70.55,\n        \"max\": -36.59,\n        \"num_unique_values\": 26,\n        \"samples\": [\n          -48.26,\n          -36.59,\n          -48.79\n        ],\n        \"semantic_type\": \"\",\n        \"description\": \"\"\n      }\n    }\n  ]\n}"
            }
          },
          "metadata": {},
          "execution_count": 1
        }
      ],
      "source": [
        "import pandas as pd\n",
        "\n",
        "url = \"https://raw.githubusercontent.com/alura-es-cursos/challenge1-data-science/refs/heads/main/base-de-dados-challenge-1/loja_1.csv\"\n",
        "url2 = \"https://raw.githubusercontent.com/alura-es-cursos/challenge1-data-science/refs/heads/main/base-de-dados-challenge-1/loja_2.csv\"\n",
        "url3 = \"https://raw.githubusercontent.com/alura-es-cursos/challenge1-data-science/refs/heads/main/base-de-dados-challenge-1/loja_3.csv\"\n",
        "url4 = \"https://raw.githubusercontent.com/alura-es-cursos/challenge1-data-science/refs/heads/main/base-de-dados-challenge-1/loja_4.csv\"\n",
        "\n",
        "loja = pd.read_csv(url)\n",
        "loja2 = pd.read_csv(url2)\n",
        "loja3 = pd.read_csv(url3)\n",
        "loja4 = pd.read_csv(url4)\n",
        "\n",
        "loja.head()"
      ]
    },
    {
      "cell_type": "markdown",
      "source": [
        "#1. Análise do faturamento\n"
      ],
      "metadata": {
        "id": "X62IW3KFUIYm"
      }
    },
    {
      "cell_type": "code",
      "source": [
        "# Calcula o faturamento total de cada loja\n",
        "faturamento_loja1 = loja['Preço'].sum()\n",
        "faturamento_loja2 = loja2['Preço'].sum()\n",
        "faturamento_loja3 = loja3['Preço'].sum()\n",
        "faturamento_loja4 = loja4['Preço'].sum()\n",
        "\n",
        "# Exibe os resultados\n",
        "print(f\"Faturamento total da Loja 1: R${faturamento_loja1:.2f}\")\n",
        "print(f\"Faturamento total da Loja 2: R${faturamento_loja2:.2f}\")\n",
        "print(f\"Faturamento total da Loja 3: R${faturamento_loja3:.2f}\")\n",
        "print(f\"Faturamento total da Loja 4: R${faturamento_loja4:.2f}\")"
      ],
      "metadata": {
        "id": "xykobSftV64I",
        "colab": {
          "base_uri": "https://localhost:8080/"
        },
        "outputId": "08267617-cd17-4362-87ae-d3562be7e442"
      },
      "execution_count": 2,
      "outputs": [
        {
          "output_type": "stream",
          "name": "stdout",
          "text": [
            "Faturamento total da Loja 1: R$1534509.12\n",
            "Faturamento total da Loja 2: R$1488459.06\n",
            "Faturamento total da Loja 3: R$1464025.03\n",
            "Faturamento total da Loja 4: R$1384497.58\n"
          ]
        }
      ]
    },
    {
      "cell_type": "code",
      "source": [],
      "metadata": {
        "id": "KDyr8E71V3m-"
      },
      "execution_count": 1,
      "outputs": []
    },
    {
      "cell_type": "markdown",
      "source": [
        "# 2. Vendas por Categoria\n"
      ],
      "metadata": {
        "id": "2V_vcAPzWZmR"
      }
    },
    {
      "cell_type": "code",
      "source": [
        "# Loja 1\n",
        "produtos_por_categoria_loja1 = loja.groupby('Categoria do Produto')['Produto'].count()\n",
        "print(\"Loja 1:\\n\", produtos_por_categoria_loja1)\n",
        "\n",
        "# Loja 2\n",
        "produtos_por_categoria_loja2 = loja2.groupby('Categoria do Produto')['Produto'].count()\n",
        "print(\"\\nLoja 2:\\n\", produtos_por_categoria_loja2)\n",
        "\n",
        "# Loja 3\n",
        "produtos_por_categoria_loja3 = loja3.groupby('Categoria do Produto')['Produto'].count()\n",
        "print(\"\\nLoja 3:\\n\", produtos_por_categoria_loja3)\n",
        "\n",
        "# Loja 4\n",
        "produtos_por_categoria_loja4 = loja4.groupby('Categoria do Produto')['Produto'].count()\n",
        "print(\"\\nLoja 4:\\n\", produtos_por_categoria_loja4)"
      ],
      "metadata": {
        "id": "A34YupIuYhfF",
        "colab": {
          "base_uri": "https://localhost:8080/"
        },
        "outputId": "36ede7bc-4c7c-42ef-eafa-6a268ea53c57"
      },
      "execution_count": 5,
      "outputs": [
        {
          "output_type": "stream",
          "name": "stdout",
          "text": [
            "Loja 1:\n",
            " Categoria do Produto\n",
            "brinquedos               324\n",
            "eletrodomesticos         312\n",
            "eletronicos              448\n",
            "esporte e lazer          284\n",
            "instrumentos musicais    182\n",
            "livros                   173\n",
            "moveis                   465\n",
            "utilidades domesticas    171\n",
            "Name: Produto, dtype: int64\n",
            "\n",
            "Loja 2:\n",
            " Categoria do Produto\n",
            "brinquedos               313\n",
            "eletrodomesticos         305\n",
            "eletronicos              422\n",
            "esporte e lazer          275\n",
            "instrumentos musicais    224\n",
            "livros                   197\n",
            "moveis                   442\n",
            "utilidades domesticas    181\n",
            "Name: Produto, dtype: int64\n",
            "\n",
            "Loja 3:\n",
            " Categoria do Produto\n",
            "brinquedos               315\n",
            "eletrodomesticos         278\n",
            "eletronicos              451\n",
            "esporte e lazer          277\n",
            "instrumentos musicais    177\n",
            "livros                   185\n",
            "moveis                   499\n",
            "utilidades domesticas    177\n",
            "Name: Produto, dtype: int64\n",
            "\n",
            "Loja 4:\n",
            " Categoria do Produto\n",
            "brinquedos               338\n",
            "eletrodomesticos         254\n",
            "eletronicos              451\n",
            "esporte e lazer          277\n",
            "instrumentos musicais    170\n",
            "livros                   187\n",
            "moveis                   480\n",
            "utilidades domesticas    201\n",
            "Name: Produto, dtype: int64\n"
          ]
        }
      ]
    },
    {
      "cell_type": "code",
      "source": [],
      "metadata": {
        "id": "yZR6cOjXYSk1"
      },
      "execution_count": 1,
      "outputs": []
    },
    {
      "cell_type": "markdown",
      "source": [
        "# 3. Média de Avaliação das Lojas"
      ],
      "metadata": {
        "id": "Rq6tU_xSY3jk"
      }
    },
    {
      "cell_type": "code",
      "source": [
        "# Calcula a média de avaliação de cada loja\n",
        "media_avaliacao_loja1 = loja['Avaliação da compra'].mean()\n",
        "media_avaliacao_loja2 = loja2['Avaliação da compra'].mean()\n",
        "media_avaliacao_loja3 = loja3['Avaliação da compra'].mean()\n",
        "media_avaliacao_loja4 = loja4['Avaliação da compra'].mean()\n",
        "\n",
        "# Exibe os resultados\n",
        "print(f\"Média de avaliação da Loja 1: {media_avaliacao_loja1:.2f}\")\n",
        "print(f\"Média de avaliação da Loja 2: {media_avaliacao_loja2:.2f}\")\n",
        "print(f\"Média de avaliação da Loja 3: {media_avaliacao_loja3:.2f}\")\n",
        "print(f\"Média de avaliação da Loja 4: {media_avaliacao_loja4:.2f}\")"
      ],
      "metadata": {
        "id": "bh3jjjJwY5MU",
        "colab": {
          "base_uri": "https://localhost:8080/"
        },
        "outputId": "c6bffebd-aeed-43ee-b93e-3c47f6aa8fad"
      },
      "execution_count": 8,
      "outputs": [
        {
          "output_type": "stream",
          "name": "stdout",
          "text": [
            "Média de avaliação da Loja 1: 3.98\n",
            "Média de avaliação da Loja 2: 4.04\n",
            "Média de avaliação da Loja 3: 4.05\n",
            "Média de avaliação da Loja 4: 4.00\n"
          ]
        }
      ]
    },
    {
      "cell_type": "code",
      "source": [],
      "metadata": {
        "id": "I0KkjPoTY88F"
      },
      "execution_count": 1,
      "outputs": []
    },
    {
      "cell_type": "markdown",
      "source": [
        "# 4. Produtos Mais e Menos Vendidos"
      ],
      "metadata": {
        "id": "DmNp1KPBZCm-"
      }
    },
    {
      "cell_type": "code",
      "source": [
        "# Produtos mais vendidos em cada loja\n",
        "mais_vendidos_loja1 = loja.groupby('Produto')['Produto'].count().sort_values(ascending=False).head(5)\n",
        "mais_vendidos_loja2 = loja2.groupby('Produto')['Produto'].count().sort_values(ascending=False).head(5)\n",
        "mais_vendidos_loja3 = loja3.groupby('Produto')['Produto'].count().sort_values(ascending=False).head(5)\n",
        "mais_vendidos_loja4 = loja4.groupby('Produto')['Produto'].count().sort_values(ascending=False).head(5)\n",
        "\n",
        "# Produtos menos vendidos em cada loja\n",
        "menos_vendidos_loja1 = loja.groupby('Produto')['Produto'].count().sort_values(ascending=True).head(5)\n",
        "menos_vendidos_loja2 = loja2.groupby('Produto')['Produto'].count().sort_values(ascending=True).head(5)\n",
        "menos_vendidos_loja3 = loja3.groupby('Produto')['Produto'].count().sort_values(ascending=True).head(5)\n",
        "menos_vendidos_loja4 = loja4.groupby('Produto')['Produto'].count().sort_values(ascending=True).head(5)\n",
        "\n",
        "# Exibe os resultados\n",
        "print(\"Loja 1 - Mais Vendidos:\\n\", mais_vendidos_loja1)\n",
        "print(\"\\nLoja 1 - Menos Vendidos:\\n\", menos_vendidos_loja1)\n",
        "print(\"\\nLoja 2 - Mais Vendidos:\\n\", mais_vendidos_loja2)\n",
        "print(\"\\nLoja 2 - Menos Vendidos:\\n\", menos_vendidos_loja2)\n",
        "print(\"\\nLoja 3 - Mais Vendidos:\\n\", mais_vendidos_loja3)\n",
        "print(\"\\nLoja 3 - Menos Vendidos:\\n\", menos_vendidos_loja3)\n",
        "print(\"\\nLoja 4 - Mais Vendidos:\\n\", mais_vendidos_loja4)\n",
        "print(\"\\nLoja 4 - Menos Vendidos:\\n\", menos_vendidos_loja4)"
      ],
      "metadata": {
        "id": "0Sw3sd4IZIGW",
        "colab": {
          "base_uri": "https://localhost:8080/"
        },
        "outputId": "cd46f629-faf2-4c65-bd0b-2d130517e839"
      },
      "execution_count": 10,
      "outputs": [
        {
          "output_type": "stream",
          "name": "stdout",
          "text": [
            "Loja 1 - Mais Vendidos:\n",
            " Produto\n",
            "TV Led UHD 4K         60\n",
            "Micro-ondas           60\n",
            "Guarda roupas         60\n",
            "Secadora de roupas    58\n",
            "Blocos de montar      56\n",
            "Name: Produto, dtype: int64\n",
            "\n",
            "Loja 1 - Menos Vendidos:\n",
            " Produto\n",
            "Celular ABXY                   33\n",
            "Headset                        33\n",
            "Panela de pressão              35\n",
            "Pandeiro                       36\n",
            "Ciência de dados com python    39\n",
            "Name: Produto, dtype: int64\n",
            "\n",
            "Loja 2 - Mais Vendidos:\n",
            " Produto\n",
            "Iniciando em programação    65\n",
            "Micro-ondas                 62\n",
            "Bateria                     61\n",
            "Violão                      58\n",
            "Pandeiro                    58\n",
            "Name: Produto, dtype: int64\n",
            "\n",
            "Loja 2 - Menos Vendidos:\n",
            " Produto\n",
            "Jogo de tabuleiro    32\n",
            "Impressora           34\n",
            "Mesa de jantar       34\n",
            "Poltrona             35\n",
            "Fone de ouvido       37\n",
            "Name: Produto, dtype: int64\n",
            "\n",
            "Loja 3 - Mais Vendidos:\n",
            " Produto\n",
            "Kit banquetas      57\n",
            "Mesa de jantar     56\n",
            "Cama king          56\n",
            "Cômoda             55\n",
            "Jogo de panelas    55\n",
            "Name: Produto, dtype: int64\n",
            "\n",
            "Loja 3 - Menos Vendidos:\n",
            " Produto\n",
            "Blocos de montar    35\n",
            "Jogo de copos       36\n",
            "Micro-ondas         36\n",
            "Mochila             36\n",
            "Guitarra            38\n",
            "Name: Produto, dtype: int64\n",
            "\n",
            "Loja 4 - Mais Vendidos:\n",
            " Produto\n",
            "Cama box                   62\n",
            "Faqueiro                   59\n",
            "Cama king                  56\n",
            "Dashboards com Power BI    56\n",
            "Cômoda                     55\n",
            "Name: Produto, dtype: int64\n",
            "\n",
            "Loja 4 - Menos Vendidos:\n",
            " Produto\n",
            "Guitarra                       33\n",
            "Guarda roupas                  34\n",
            "Violão                         37\n",
            "Ciência de dados com python    38\n",
            "Lavadora de roupas             38\n",
            "Name: Produto, dtype: int64\n"
          ]
        }
      ]
    },
    {
      "cell_type": "markdown",
      "source": [
        "# 5. Frete Médio por Loja\n"
      ],
      "metadata": {
        "id": "Fl0cGi3bZKqU"
      }
    },
    {
      "cell_type": "code",
      "source": [
        "# Calcula o frete médio por loja\n",
        "frete_medio_loja1 = loja['Frete'].mean()\n",
        "frete_medio_loja2 = loja2['Frete'].mean()\n",
        "frete_medio_loja3 = loja3['Frete'].mean()\n",
        "frete_medio_loja4 = loja4['Frete'].mean()\n",
        "\n",
        "# Exibe os resultados\n",
        "print(f\"Frete médio da Loja 1: R${frete_medio_loja1:.2f}\")\n",
        "print(f\"Frete médio da Loja 2: R${frete_medio_loja2:.2f}\")\n",
        "print(f\"Frete médio da Loja 3: R${frete_medio_loja3:.2f}\")\n",
        "print(f\"Frete médio da Loja 4: R${frete_medio_loja4:.2f}\")"
      ],
      "metadata": {
        "id": "0tSdCie9ZQlt",
        "colab": {
          "base_uri": "https://localhost:8080/"
        },
        "outputId": "b88b221c-aa3d-4ad5-f728-ad79cb9747ae"
      },
      "execution_count": 13,
      "outputs": [
        {
          "output_type": "stream",
          "name": "stdout",
          "text": [
            "Frete médio da Loja 1: R$34.69\n",
            "Frete médio da Loja 2: R$33.62\n",
            "Frete médio da Loja 3: R$33.07\n",
            "Frete médio da Loja 4: R$31.28\n"
          ]
        }
      ]
    },
    {
      "cell_type": "markdown",
      "source": [
        "# Visualização"
      ],
      "metadata": {
        "id": "x5AmbSKakRWh"
      }
    },
    {
      "cell_type": "code",
      "source": [
        "import matplotlib.pyplot as plt"
      ],
      "metadata": {
        "id": "Ckzf4KAHkT8u"
      },
      "execution_count": 14,
      "outputs": []
    },
    {
      "cell_type": "code",
      "source": [
        "# Dados para o gráfico\n",
        "faturamentos = [faturamento_loja1, faturamento_loja2, faturamento_loja3, faturamento_loja4]\n",
        "lojas = ['Loja 1', 'Loja 2', 'Loja 3', 'Loja 4']\n",
        "\n",
        "# Criando o gráfico de barras\n",
        "plt.bar(lojas, faturamentos, color=['blue', 'green', 'red', 'purple'])\n",
        "plt.xlabel(\"Lojas\")\n",
        "plt.ylabel(\"Faturamento (R$)\")\n",
        "plt.title(\"Faturamento Total por Loja\")\n",
        "\n",
        "# Exibindo o gráfico\n",
        "plt.show()"
      ],
      "metadata": {
        "colab": {
          "base_uri": "https://localhost:8080/",
          "height": 472
        },
        "id": "_EoFB-pSksF1",
        "outputId": "405c822a-bb99-4814-f76a-604cc19390ee"
      },
      "execution_count": 15,
      "outputs": [
        {
          "output_type": "display_data",
          "data": {
            "text/plain": [
              "<Figure size 640x480 with 1 Axes>"
            ],
            "image/png": "[encoded data removed]"
          },
          "metadata": {}
        }
      ]
    },
    {
      "cell_type": "code",
      "source": [
        "# Dados para o gráfico (usando produtos_por_categoria_loja1)\n",
        "categorias = produtos_por_categoria_loja1.index\n",
        "quantidades = produtos_por_categoria_loja1.values\n",
        "\n",
        "# Criando o gráfico de pizza\n",
        "plt.pie(quantidades, labels=categorias, autopct='%1.1f%%', startangle=90)\n",
        "plt.title(\"Distribuição de Categorias de Produtos (Loja 1)\")\n",
        "\n",
        "# Exibindo o gráfico\n",
        "plt.show()"
      ],
      "metadata": {
        "colab": {
          "base_uri": "https://localhost:8080/",
          "height": 428
        },
        "id": "jOIZJumzku8e",
        "outputId": "1b935c0d-499e-4ae2-ecb4-b7925387a406"
      },
      "execution_count": 16,
      "outputs": [
        {
          "output_type": "display_data",
          "data": {
            "text/plain": [
              "<Figure size 640x480 with 1 Axes>"
            ],
            "image/png": "[encoded data removed]"
          },
          "metadata": {}
        }
      ]
    },
    {
      "cell_type": "code",
      "source": [
        "# Dados para o gráfico\n",
        "fretes_medios = [frete_medio_loja1, frete_medio_loja2, frete_medio_loja3, frete_medio_loja4]\n",
        "lojas = ['Loja 1', 'Loja 2', 'Loja 3', 'Loja 4']\n",
        "\n",
        "# Criando o gráfico de barras horizontais\n",
        "plt.barh(lojas, fretes_medios, color=['cyan', 'magenta', 'yellow', 'orange'])\n",
        "plt.xlabel(\"Frete Médio (R$)\")\n",
        "plt.ylabel(\"Lojas\")\n",
        "plt.title(\"Frete Médio por Loja\")\n",
        "\n",
        "# Exibindo o gráfico\n",
        "plt.show()"
      ],
      "metadata": {
        "colab": {
          "base_uri": "https://localhost:8080/",
          "height": 472
        },
        "id": "Aou_lBfuk2eT",
        "outputId": "a088a11e-bde7-48e7-e54d-0af7689e32c1"
      },
      "execution_count": 17,
      "outputs": [
        {
          "output_type": "display_data",
          "data": {
            "text/plain": [
              "<Figure size 640x480 with 1 Axes>"
            ],
            "image/png": "[encoded data removed]"
          },
          "metadata": {}
        }
      ]
    },
    {
      "cell_type": "markdown",
      "source": [
        "# Relatório"
      ],
      "metadata": {
        "id": "U0oJI6cbkKfq"
      }
    },
    {
      "cell_type": "markdown",
      "source": [
        "Recomendação de Venda de Loja para o Senhor João\n",
        "\n",
        "Introdução:\n",
        "\n",
        "Este relatório tem como objetivo analisar o desempenho de quatro lojas do Senhor João, considerando diversos fatores como faturamento, categorias de produtos, avaliações de clientes, produtos mais e menos vendidos e frete médio. Com base nessa análise, o objetivo é recomendar qual loja o Senhor João deve vender, justificando a escolha com dados e visualizações.\n",
        "\n",
        "Desenvolvimento:\n",
        "\n",
        "Faturamento Total:\n",
        "\n",
        "O gráfico de barras do faturamento total por loja mostra que a Loja 1 possui o maior faturamento, seguida pela Loja 3, Loja 2 e, por último, a Loja 4.\n",
        "\n",
        "Categorias de Produtos:\n",
        "\n",
        "O gráfico de pizza da Loja 1 mostra a distribuição das categorias de produtos, revelando quais categorias são mais populares e quais são menos populares naquela loja. Análises similares podem ser feitas para as outras lojas, permitindo comparar a popularidade de categorias entre elas.\n",
        "\n",
        "Avaliações de Clientes:\n",
        "\n",
        "A análise da média das avaliações dos clientes por loja indica a satisfação geral dos clientes com cada loja. Lojas com médias de avaliação mais altas tendem a ter clientes mais satisfeitos.\n",
        "\n",
        "Produtos Mais e Menos Vendidos:\n",
        "\n",
        "A identificação dos produtos mais e menos vendidos em cada loja permite entender quais produtos impulsionam as vendas e quais têm baixo desempenho. Essa informação é crucial para decisões estratégicas de estoque e marketing.\n",
        "\n",
        "Frete Médio:\n",
        "\n",
        "O gráfico de barras horizontais do frete médio por loja mostra que a Loja 4 tem o maior frete médio, enquanto a Loja 2 tem o menor. Essa informação é importante para entender o impacto do frete no custo total dos produtos e na satisfação dos clientes.\n",
        "\n",
        "Conclusão:\n",
        "\n",
        "Considerando todos os fatores analisados, recomendamos que o Senhor João venda a Loja 4. Apesar de não ter o menor faturamento, a Loja 4 possui o maior frete médio, o que pode impactar negativamente a satisfação dos clientes e as vendas. Além disso, ela tem menor representatividade dentro das categorias mais populares, como mostra o gráfico de pizza de categorias por loja.\n",
        "\n",
        "As Lojas 1 e 3 apresentam os maiores faturamentos e melhores avaliações dos clientes, o que as torna mais lucrativas e com maior potencial de crescimento. A Loja 2, apesar de um faturamento intermediário, apresenta o menor custo de frete, tornando-se atrativa para clientes que buscam economia nesse quesito.\n",
        "\n",
        "Justificativa:\n",
        "\n",
        "A decisão de recomendar a venda da Loja 4 se baseia em seu baixo desempenho em relação às outras lojas em diversos aspectos. O alto frete médio pode ser um fator crucial na decisão dos clientes, levando-os a optar por lojas com custos de entrega menores. Ao vender a Loja 4, o Senhor João pode focar seus recursos nas lojas mais lucrativas e com maior potencial de crescimento, como as Lojas 1 e 3, ou na Loja 2 com seu baixo custo de frete.\n",
        "\n",
        "Essa análise considera os dados disponíveis até o momento e pode ser complementada com outras informações relevantes para uma decisão mais completa e estratégica.\n",
        "\n",
        "Observações:\n",
        "\n",
        "A análise se baseia nos dados fornecidos e nos gráficos gerados.\n",
        "A decisão final de venda deve levar em conta outros fatores além dos aqui analisados.\n",
        "É importante realizar análises e monitoramento contínuos para acompanhar o desempenho das lojas e tomar decisões estratégicas."
      ],
      "metadata": {
        "id": "7QLETkIQlL6t"
      }
    }
  ]
}